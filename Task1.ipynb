import pandas as pd
import matplotlib.pyplot as plt

# Sample dataset: total population by country from World Bank
# Creating a mock dataset to simulate a few countries' total population values for visualization
data = {
    'Country': ['India', 'China', 'United States', 'Indonesia', 'Pakistan', 'Brazil', 'Nigeria', 'Bangladesh', 'Russia', 'Mexico'],
    'Population': [1417173173, 1425887337, 339996563, 277534122, 240485658, 215353593, 223804632, 172452831, 144713314, 132328035]
}

df = pd.DataFrame(data)

# Create a bar chart for population distribution by country
plt.figure(figsize=(12, 6))
plt.bar(df['Country'], df['Population'], color='skyblue')
plt.title('Population Distribution by Country')
plt.xlabel('Country')
plt.ylabel('Population')
plt.xticks(rotation=45)
plt.tight_layout()
plt.grid(axis='y', linestyle='--', alpha=0.7)

plt.show()
